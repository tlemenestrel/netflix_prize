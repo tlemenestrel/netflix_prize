{
 "cells": [
  {
   "cell_type": "markdown",
   "id": "4fc4047a",
   "metadata": {},
   "source": [
    "### Libraries to install"
   ]
  },
  {
   "cell_type": "code",
   "execution_count": 88,
   "id": "889141d1",
   "metadata": {},
   "outputs": [],
   "source": [
    "import matplotlib.pyplot as plt\n",
    "import numpy as np\n",
    "import pandas as pd\n",
    "import seaborn as sns"
   ]
  },
  {
   "cell_type": "markdown",
   "id": "e6c38c3d",
   "metadata": {},
   "source": [
    "### Constants"
   ]
  },
  {
   "cell_type": "code",
   "execution_count": 89,
   "id": "a9215da8",
   "metadata": {},
   "outputs": [],
   "source": [
    "BYTES_TO_MB_DIV = 0.000001"
   ]
  },
  {
   "cell_type": "markdown",
   "id": "9fc72db9",
   "metadata": {},
   "source": [
    "### Function to check the memory usage of the dataframe"
   ]
  },
  {
   "cell_type": "code",
   "execution_count": 90,
   "id": "866fc36d",
   "metadata": {},
   "outputs": [],
   "source": [
    "def df_mem_usage(df):\n",
    "    print()\n",
    "    mem = round(df.memory_usage().sum() * BYTES_TO_MB_DIV, 3) \n",
    "    print(\"Memory usage is \" + str(mem) + \" MB\")"
   ]
  },
  {
   "cell_type": "markdown",
   "id": "f1083943",
   "metadata": {},
   "source": [
    "### Reading the dataset"
   ]
  },
  {
   "cell_type": "code",
   "execution_count": null,
   "id": "0920dcac",
   "metadata": {},
   "outputs": [],
   "source": [
    "%%time\n",
    "\n",
    "cols = ['%%MatrixMarket','matrix','coordinate']\n",
    "\n",
    "dtypes = {\n",
    "    '%%MatrixMarket':'int32', \n",
    "    'matrix':'int16', \n",
    "    'coordinate':'int8'\n",
    "}\n",
    "\n",
    "df = pd.read_csv('data/netflix_mm', delim_whitespace=True, usecols=cols, dtype=dtypes, skiprows=range(1, 3))\n",
    "df.columns = ['user_id', 'movie_id', 'rating']\n",
    "\n",
    "print(df.head())\n",
    "df_mem_usage(df)"
   ]
  },
  {
   "cell_type": "code",
   "execution_count": null,
   "id": "94149549",
   "metadata": {},
   "outputs": [],
   "source": [
    "print(df.head())"
   ]
  },
  {
   "cell_type": "markdown",
   "id": "a339ae1b",
   "metadata": {},
   "source": [
    "# EDA"
   ]
  },
  {
   "cell_type": "markdown",
   "id": "646ad239",
   "metadata": {},
   "source": [
    "### Check for missing ratings"
   ]
  },
  {
   "cell_type": "code",
   "execution_count": null,
   "id": "898f9841",
   "metadata": {},
   "outputs": [],
   "source": [
    "(df['rating'] == 0).any()"
   ]
  },
  {
   "cell_type": "markdown",
   "id": "8b1b03a3",
   "metadata": {},
   "source": [
    "### Total number of ratings in the dataset"
   ]
  },
  {
   "cell_type": "code",
   "execution_count": null,
   "id": "179bf408",
   "metadata": {},
   "outputs": [],
   "source": [
    "num_ratings = len(df.index)\n",
    "\n",
    "print(('This dataset contains {:,} ratings in total.').format(num_ratings))"
   ]
  },
  {
   "cell_type": "markdown",
   "id": "79fb80aa",
   "metadata": {},
   "source": [
    "### Total number of viewers in the dataset"
   ]
  },
  {
   "cell_type": "code",
   "execution_count": null,
   "id": "67a391cf",
   "metadata": {},
   "outputs": [],
   "source": [
    "num_viewers = len(pd.unique(df['user_id']))\n",
    "  \n",
    "print(('This dataset contains {:,} viewers in total.').format(num_viewers))"
   ]
  },
  {
   "cell_type": "markdown",
   "id": "0a6fe5fd",
   "metadata": {},
   "source": [
    "### Total number of movies in the dataset"
   ]
  },
  {
   "cell_type": "code",
   "execution_count": null,
   "id": "6f6edaf6",
   "metadata": {},
   "outputs": [],
   "source": [
    "num_movies = len(pd.unique(df['movie_id']))\n",
    "  \n",
    "print(('This dataset contains {:,} movies in total.').format(num_movies))"
   ]
  },
  {
   "cell_type": "markdown",
   "id": "e287b511",
   "metadata": {},
   "source": [
    "### Average number of ratings per movie"
   ]
  },
  {
   "cell_type": "code",
   "execution_count": null,
   "id": "0e9b690c",
   "metadata": {},
   "outputs": [],
   "source": [
    "avg_ratings_per_movie = round(num_ratings / num_movies)\n",
    "\n",
    "print(('Each movies has on average {:,} ratings.').format(avg_ratings_per_movie))"
   ]
  },
  {
   "cell_type": "markdown",
   "id": "f4693536",
   "metadata": {},
   "source": [
    "### Average number of ratings per viewer"
   ]
  },
  {
   "cell_type": "code",
   "execution_count": null,
   "id": "950998ca",
   "metadata": {},
   "outputs": [],
   "source": [
    "avg_ratings_per_viewer = round(num_ratings / num_viewers)\n",
    "\n",
    "print(('Each user has rated on average {:,} movies.').format(avg_ratings_per_viewer))"
   ]
  },
  {
   "cell_type": "markdown",
   "id": "197c9d26",
   "metadata": {},
   "source": [
    "### Checking the distribution of the number of ratings per movie"
   ]
  },
  {
   "cell_type": "code",
   "execution_count": null,
   "id": "6fe9017c",
   "metadata": {},
   "outputs": [],
   "source": [
    "dist_ratings_movies = df.groupby('movie_id').size().sort_values()"
   ]
  },
  {
   "cell_type": "code",
   "execution_count": null,
   "id": "f134482e",
   "metadata": {},
   "outputs": [],
   "source": [
    "fig = plt.figure(figsize = (10,7))\n",
    "ax = fig.gca()\n",
    "dist_ratings_movies.hist(ax = ax, bins=1000, range=(0, 2000))\n",
    "\n",
    "plt.xlabel(\"Numbers of ratings given\", fontsize=15)  \n",
    "plt.ylabel(\"Numbers of movies\", fontsize=15)  \n",
    "plt.show()"
   ]
  },
  {
   "cell_type": "markdown",
   "id": "bb17e34a",
   "metadata": {},
   "source": [
    "### Checking the distribution of the number of ratings per user"
   ]
  },
  {
   "cell_type": "code",
   "execution_count": null,
   "id": "ea4fd5a5",
   "metadata": {},
   "outputs": [],
   "source": [
    "dist_ratings_user = df.groupby('user_id').size().sort_values()"
   ]
  },
  {
   "cell_type": "code",
   "execution_count": null,
   "id": "70192b05",
   "metadata": {},
   "outputs": [],
   "source": [
    "fig = plt.figure(figsize = (10,7))\n",
    "ax = fig.gca()\n",
    "dist_ratings_user.hist(ax = ax, bins=1000, range=(0, 1000))\n",
    "\n",
    "plt.xlabel(\"Numbers of movies seen\", fontsize=15)  \n",
    "plt.ylabel(\"Numbers of viewers\", fontsize=15)  \n",
    "plt.show()"
   ]
  },
  {
   "cell_type": "markdown",
   "id": "044c9f4a",
   "metadata": {},
   "source": [
    "### Repartition of the grades"
   ]
  },
  {
   "cell_type": "code",
   "execution_count": null,
   "id": "6418a533",
   "metadata": {},
   "outputs": [],
   "source": [
    "movie_ratings = sorted(df.rating.unique())\n",
    "\n",
    "sns.countplot(x='rating', data=df, order=movie_ratings)\n",
    "plt.show()"
   ]
  },
  {
   "cell_type": "markdown",
   "id": "8337d0ff",
   "metadata": {},
   "source": [
    "### Repartition of the ratings"
   ]
  },
  {
   "cell_type": "code",
   "execution_count": null,
   "id": "851a7e4d",
   "metadata": {},
   "outputs": [],
   "source": [
    "ratings = df.rating.value_counts()\n",
    "\n",
    "for rating in ratings.index:\n",
    "    percentage = int(ratings[rating] / len(df.index) * 100)\n",
    "    print(('Percentage of movies that were given a rating of {}: {} %').format(rating, percentage))"
   ]
  }
 ],
 "metadata": {
  "kernelspec": {
   "display_name": "Python 3",
   "language": "python",
   "name": "python3"
  },
  "language_info": {
   "codemirror_mode": {
    "name": "ipython",
    "version": 3
   },
   "file_extension": ".py",
   "mimetype": "text/x-python",
   "name": "python",
   "nbconvert_exporter": "python",
   "pygments_lexer": "ipython3",
   "version": "3.6.13"
  }
 },
 "nbformat": 4,
 "nbformat_minor": 5
}
