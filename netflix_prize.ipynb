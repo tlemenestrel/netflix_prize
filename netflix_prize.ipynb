{
 "cells": [
  {
   "cell_type": "code",
   "execution_count": 4,
   "id": "013231a4",
   "metadata": {},
   "outputs": [],
   "source": [
    "import pandas as pd"
   ]
  },
  {
   "cell_type": "code",
   "execution_count": 29,
   "id": "b0a91cad",
   "metadata": {},
   "outputs": [],
   "source": [
    "cols = ['%%MatrixMarket','matrix','coordinate']\n",
    "\n",
    "dtypes = {\n",
    "    '%%MatrixMarket':'int32', \n",
    "    'matrix':'int16', \n",
    "    'coordinate':'int8'\n",
    "}"
   ]
  },
  {
   "cell_type": "code",
   "execution_count": null,
   "id": "d69ce6f6",
   "metadata": {},
   "outputs": [],
   "source": [
    "%%time\n",
    "\n",
    "df = pd.read_csv('netflix_mm')"
   ]
  },
  {
   "cell_type": "code",
   "execution_count": 22,
   "id": "5abccc74",
   "metadata": {},
   "outputs": [
    {
     "name": "stdout",
     "output_type": "stream",
     "text": [
      "  %%MatrixMarket     matrix   coordinate\n",
      "0              %  Generated  25-Sep-2011\n",
      "1         480189      17770     99072112\n",
      "2              1          1            3\n",
      "3              2          1            5\n",
      "4              3          1            4\n",
      "False\n"
     ]
    }
   ],
   "source": [
    "print(df.head())\n",
    "\n",
    "print(df['%%MatrixMarket'].isnull().values.any())"
   ]
  },
  {
   "cell_type": "code",
   "execution_count": 24,
   "id": "91d9a38a",
   "metadata": {},
   "outputs": [
    {
     "name": "stdout",
     "output_type": "stream",
     "text": [
      "False\n"
     ]
    }
   ],
   "source": [
    "print(df['matrix'].isnull().values.any())"
   ]
  },
  {
   "cell_type": "code",
   "execution_count": null,
   "id": "1f34f849",
   "metadata": {},
   "outputs": [],
   "source": []
  }
 ],
 "metadata": {
  "kernelspec": {
   "display_name": "Python 3",
   "language": "python",
   "name": "python3"
  },
  "language_info": {
   "codemirror_mode": {
    "name": "ipython",
    "version": 3
   },
   "file_extension": ".py",
   "mimetype": "text/x-python",
   "name": "python",
   "nbconvert_exporter": "python",
   "pygments_lexer": "ipython3",
   "version": "3.8.5"
  }
 },
 "nbformat": 4,
 "nbformat_minor": 5
}
