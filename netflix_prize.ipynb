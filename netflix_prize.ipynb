{
 "cells": [
  {
   "cell_type": "markdown",
   "id": "4fc4047a",
   "metadata": {},
   "source": [
    "### Libraries to install"
   ]
  },
  {
   "cell_type": "code",
   "execution_count": 194,
   "id": "889141d1",
   "metadata": {},
   "outputs": [],
   "source": [
    "from math import sqrt\n",
    "import numpy as np\n",
    "import pandas as pd\n",
    "import surprise as sp"
   ]
  },
  {
   "cell_type": "markdown",
   "id": "e6c38c3d",
   "metadata": {},
   "source": [
    "### Constants"
   ]
  },
  {
   "cell_type": "code",
   "execution_count": 195,
   "id": "a9215da8",
   "metadata": {},
   "outputs": [],
   "source": [
    "BYTES_TO_MB_DIV = 0.000001"
   ]
  },
  {
   "cell_type": "markdown",
   "id": "9fc72db9",
   "metadata": {},
   "source": [
    "### Function to check the memory usage of the dataframe"
   ]
  },
  {
   "cell_type": "code",
   "execution_count": 196,
   "id": "866fc36d",
   "metadata": {},
   "outputs": [],
   "source": [
    "def df_mem_usage(df):\n",
    "    print()\n",
    "    mem = round(df.memory_usage().sum() * BYTES_TO_MB_DIV, 3) \n",
    "    print(\"Memory usage is \" + str(mem) + \" MB\")"
   ]
  },
  {
   "cell_type": "markdown",
   "id": "f1083943",
   "metadata": {},
   "source": [
    "### Reading the dataset"
   ]
  },
  {
   "cell_type": "code",
   "execution_count": 197,
   "id": "0920dcac",
   "metadata": {},
   "outputs": [
    {
     "name": "stdout",
     "output_type": "stream",
     "text": [
      "   userID  itemID  rating\n",
      "0       1       1       3\n",
      "1       2       1       5\n",
      "2       3       1       4\n",
      "3       5       1       3\n",
      "4       6       1       3\n",
      "\n",
      "Memory usage is 693.505 MB\n",
      "CPU times: user 21.5 s, sys: 2.4 s, total: 23.9 s\n",
      "Wall time: 24.5 s\n"
     ]
    }
   ],
   "source": [
    "%%time\n",
    "\n",
    "cols = ['%%MatrixMarket','matrix','coordinate']\n",
    "\n",
    "dtypes = {\n",
    "    '%%MatrixMarket':'int32', \n",
    "    'matrix':'int16', \n",
    "    'coordinate':'int8'\n",
    "}\n",
    "\n",
    "df = pd.read_csv('data/netflix_mm', delim_whitespace=True, usecols=cols, dtype=dtypes, skiprows=range(1, 3))\n",
    "df.columns = ['userID', 'itemID', 'rating']\n",
    "\n",
    "print(df.head())\n",
    "df_mem_usage(df)"
   ]
  },
  {
   "cell_type": "markdown",
   "id": "b73d2803",
   "metadata": {},
   "source": [
    "# Metrics"
   ]
  },
  {
   "cell_type": "code",
   "execution_count": 200,
   "id": "94b257a5",
   "metadata": {},
   "outputs": [],
   "source": [
    "def rmse(y_pred, y_true):\n",
    "    \n",
    "    return sqrt(mean_squared_error(y_pred, y_true))"
   ]
  },
  {
   "cell_type": "markdown",
   "id": "942b9e78",
   "metadata": {},
   "source": [
    "# SVD"
   ]
  },
  {
   "cell_type": "markdown",
   "id": "95cd82ba",
   "metadata": {},
   "source": [
    "**Documentation of scikit-surprise:**\n",
    "\n",
    "-https://surprise.readthedocs.io/en/stable/matrix_factorization.html <br>\n",
    "-https://datascience.stackexchange.com/questions/6814/how-to-split-train-test-in-recommender-systems"
   ]
  },
  {
   "cell_type": "markdown",
   "id": "c90d1dc7",
   "metadata": {},
   "source": [
    "### Declare a reader object to parse the ratings"
   ]
  },
  {
   "cell_type": "code",
   "execution_count": 201,
   "id": "5883b563",
   "metadata": {},
   "outputs": [],
   "source": [
    "reader = sp.Reader(rating_scale=(1,5))"
   ]
  },
  {
   "cell_type": "markdown",
   "id": "c137a900",
   "metadata": {},
   "source": [
    "### Load the dataframe in scikit-surprise's format using the Reader"
   ]
  },
  {
   "cell_type": "code",
   "execution_count": 202,
   "id": "3ecb2763",
   "metadata": {
    "scrolled": true
   },
   "outputs": [
    {
     "name": "stdout",
     "output_type": "stream",
     "text": [
      "CPU times: user 1.16 s, sys: 95 ms, total: 1.25 s\n",
      "Wall time: 1.3 s\n"
     ]
    }
   ],
   "source": [
    "%%time\n",
    "\n",
    "data = sp.Dataset.load_from_df(df[['userID', 'itemID', 'rating']], reader)"
   ]
  },
  {
   "cell_type": "markdown",
   "id": "b146108a",
   "metadata": {},
   "source": [
    "### Divide the data into a training and test set"
   ]
  },
  {
   "cell_type": "code",
   "execution_count": 203,
   "id": "60991435",
   "metadata": {},
   "outputs": [],
   "source": [
    "trainset, testset = sp.model_selection.train_test_split(data, test_size=.25)"
   ]
  },
  {
   "cell_type": "markdown",
   "id": "1ae0ecf9",
   "metadata": {},
   "source": [
    "## K-fold cross validation"
   ]
  },
  {
   "cell_type": "markdown",
   "id": "33c3572b",
   "metadata": {},
   "source": [
    "### Parameter grid"
   ]
  },
  {
   "cell_type": "code",
   "execution_count": 204,
   "id": "5365edb1",
   "metadata": {},
   "outputs": [],
   "source": [
    "param_grid = {\n",
    "    \n",
    "    'lr_all'   : [0.001, 0.0025, 0.005, 0.01, 0.1, 0.5],\n",
    "    'reg_all'  : [0.4, 0.6]\n",
    "    \n",
    "}"
   ]
  },
  {
   "cell_type": "markdown",
   "id": "79815753",
   "metadata": {},
   "source": [
    "### Run the Grid search"
   ]
  },
  {
   "cell_type": "code",
   "execution_count": 205,
   "id": "68d21b83",
   "metadata": {},
   "outputs": [
    {
     "name": "stdout",
     "output_type": "stream",
     "text": [
      "CPU times: user 33min 19s, sys: 23.3 s, total: 33min 42s\n",
      "Wall time: 34min 11s\n"
     ]
    }
   ],
   "source": [
    "%%time\n",
    "\n",
    "gs = sp.model_selection.GridSearchCV(sp.SVD, param_grid, measures=['rmse'], cv=3)\n",
    "gs.fit(data)"
   ]
  },
  {
   "cell_type": "markdown",
   "id": "9ca67ffb",
   "metadata": {},
   "source": [
    "### Get the results of the GridSearch"
   ]
  },
  {
   "cell_type": "code",
   "execution_count": 210,
   "id": "c1bfe15b",
   "metadata": {},
   "outputs": [],
   "source": [
    "results_df = pd.DataFrame.from_dict(gs.cv_results)\n",
    "results_df.to_csv('data/cv_results.csv', index=False)"
   ]
  },
  {
   "cell_type": "markdown",
   "id": "81d591e3",
   "metadata": {},
   "source": [
    "### Get the best RMSE and set of parameters from the GridSearch"
   ]
  },
  {
   "cell_type": "code",
   "execution_count": 207,
   "id": "1ed892bc",
   "metadata": {},
   "outputs": [
    {
     "name": "stdout",
     "output_type": "stream",
     "text": [
      "0.9759492200016252\n",
      "{'lr_all': 0.005, 'reg_all': 0.4}\n"
     ]
    }
   ],
   "source": [
    "print(gs.best_score['rmse'])\n",
    "print(gs.best_params['rmse'])"
   ]
  },
  {
   "cell_type": "markdown",
   "id": "2a2375bd",
   "metadata": {},
   "source": [
    "### Build the model from the parameters of the GridSearch"
   ]
  },
  {
   "cell_type": "code",
   "execution_count": 208,
   "id": "05fc7f11",
   "metadata": {},
   "outputs": [],
   "source": [
    "algo = gs.best_estimator['rmse']"
   ]
  },
  {
   "cell_type": "markdown",
   "id": "789c7ef8",
   "metadata": {},
   "source": [
    "### Train the model on the training set and evaluate on the test set"
   ]
  },
  {
   "cell_type": "code",
   "execution_count": 209,
   "id": "fe87c67b",
   "metadata": {},
   "outputs": [
    {
     "name": "stdout",
     "output_type": "stream",
     "text": [
      "RMSE: 0.9750\n",
      "0.9750283925996988\n"
     ]
    }
   ],
   "source": [
    "algo.fit(trainset)\n",
    "predictions = algo.test(testset)\n",
    "print(sp.accuracy.rmse(predictions))"
   ]
  }
 ],
 "metadata": {
  "kernelspec": {
   "display_name": "Python 3",
   "language": "python",
   "name": "python3"
  },
  "language_info": {
   "codemirror_mode": {
    "name": "ipython",
    "version": 3
   },
   "file_extension": ".py",
   "mimetype": "text/x-python",
   "name": "python",
   "nbconvert_exporter": "python",
   "pygments_lexer": "ipython3",
   "version": "3.6.13"
  }
 },
 "nbformat": 4,
 "nbformat_minor": 5
}
