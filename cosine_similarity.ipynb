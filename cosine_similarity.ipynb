{
 "cells": [
  {
   "cell_type": "markdown",
   "id": "4fc4047a",
   "metadata": {},
   "source": [
    "### Libraries to install"
   ]
  },
  {
   "cell_type": "code",
   "execution_count": 1,
   "id": "889141d1",
   "metadata": {},
   "outputs": [],
   "source": [
    "import pandas as pd\n",
    "import surprise as sp"
   ]
  },
  {
   "cell_type": "markdown",
   "id": "e6c38c3d",
   "metadata": {},
   "source": [
    "### Constants"
   ]
  },
  {
   "cell_type": "code",
   "execution_count": 2,
   "id": "a9215da8",
   "metadata": {},
   "outputs": [],
   "source": [
    "BYTES_TO_MB_DIV = 0.000001"
   ]
  },
  {
   "cell_type": "markdown",
   "id": "9fc72db9",
   "metadata": {},
   "source": [
    "### Function to check the memory usage of the dataframe"
   ]
  },
  {
   "cell_type": "code",
   "execution_count": 3,
   "id": "866fc36d",
   "metadata": {},
   "outputs": [],
   "source": [
    "def df_mem_usage(df):\n",
    "    print()\n",
    "    mem = round(df.memory_usage().sum() * BYTES_TO_MB_DIV, 3) \n",
    "    print(\"Memory usage is \" + str(mem) + \" MB\")"
   ]
  },
  {
   "cell_type": "markdown",
   "id": "f1083943",
   "metadata": {},
   "source": [
    "### Reading the dataset"
   ]
  },
  {
   "cell_type": "code",
   "execution_count": 4,
   "id": "0920dcac",
   "metadata": {},
   "outputs": [
    {
     "name": "stdout",
     "output_type": "stream",
     "text": [
      "   userID  itemID  rating\n",
      "0       1       1       3\n",
      "1       2       1       5\n",
      "2       3       1       4\n",
      "3       5       1       3\n",
      "4       6       1       3\n",
      "\n",
      "Memory usage is 693.505 MB\n",
      "CPU times: user 38.6 s, sys: 4.62 s, total: 43.2 s\n",
      "Wall time: 48.5 s\n"
     ]
    }
   ],
   "source": [
    "%%time\n",
    "\n",
    "cols = ['%%MatrixMarket','matrix','coordinate']\n",
    "\n",
    "dtypes = {\n",
    "    '%%MatrixMarket':'int32', \n",
    "    'matrix':'int16', \n",
    "    'coordinate':'int8'\n",
    "}\n",
    "\n",
    "df = pd.read_csv('data/netflix_mm', delim_whitespace=True, usecols=cols, dtype=dtypes, skiprows=range(1, 3))\n",
    "df.columns = ['userID', 'itemID', 'rating']\n",
    "\n",
    "print(df.head())\n",
    "df_mem_usage(df)"
   ]
  },
  {
   "cell_type": "code",
   "execution_count": 5,
   "id": "95cc1a2c",
   "metadata": {},
   "outputs": [],
   "source": [
    "df_read = df.head(10000)"
   ]
  },
  {
   "cell_type": "markdown",
   "id": "942b9e78",
   "metadata": {},
   "source": [
    "# Cosine similarity"
   ]
  },
  {
   "cell_type": "markdown",
   "id": "95cd82ba",
   "metadata": {},
   "source": [
    "**Documentation of scikit-surprise:**\n",
    "\n",
    "-https://surprise.readthedocs.io/en/stable/matrix_factorization.html <br>\n",
    "-https://datascience.stackexchange.com/questions/6814/how-to-split-train-test-in-recommender-systems"
   ]
  },
  {
   "cell_type": "markdown",
   "id": "fe72b78e",
   "metadata": {},
   "source": [
    "### Declare a reader object to parse the ratings"
   ]
  },
  {
   "cell_type": "code",
   "execution_count": 6,
   "id": "5883b563",
   "metadata": {},
   "outputs": [],
   "source": [
    "reader = sp.Reader(rating_scale=(1,5))"
   ]
  },
  {
   "cell_type": "markdown",
   "id": "c221987e",
   "metadata": {},
   "source": [
    "### Load the dataframe in scikit-surprise's format using the Reader"
   ]
  },
  {
   "cell_type": "code",
   "execution_count": 7,
   "id": "3ecb2763",
   "metadata": {
    "scrolled": true
   },
   "outputs": [
    {
     "name": "stdout",
     "output_type": "stream",
     "text": [
      "CPU times: user 20.3 ms, sys: 11 ms, total: 31.3 ms\n",
      "Wall time: 41.6 ms\n"
     ]
    }
   ],
   "source": [
    "%%time\n",
    "\n",
    "data = sp.Dataset.load_from_df(df_read[['userID', 'itemID', 'rating']], reader)"
   ]
  },
  {
   "cell_type": "markdown",
   "id": "38cdeda6",
   "metadata": {},
   "source": [
    "### Divide the data into a training and test set"
   ]
  },
  {
   "cell_type": "code",
   "execution_count": 8,
   "id": "e50f6c6f",
   "metadata": {},
   "outputs": [],
   "source": [
    "trainset, testset = sp.model_selection.train_test_split(data, test_size=.25)"
   ]
  },
  {
   "cell_type": "markdown",
   "id": "c0d321e3",
   "metadata": {},
   "source": [
    "### Run the Grid search"
   ]
  },
  {
   "cell_type": "code",
   "execution_count": 9,
   "id": "074a33b9",
   "metadata": {},
   "outputs": [],
   "source": [
    "algo = sp.KNNBasic(sim_options = {'name': 'cosine'})"
   ]
  },
  {
   "cell_type": "markdown",
   "id": "f053decc",
   "metadata": {},
   "source": [
    "### Train the model on the training set and evaluate on the test set"
   ]
  },
  {
   "cell_type": "code",
   "execution_count": 10,
   "id": "99c6596d",
   "metadata": {},
   "outputs": [
    {
     "name": "stdout",
     "output_type": "stream",
     "text": [
      "CPU times: user 6 µs, sys: 41 µs, total: 47 µs\n",
      "Wall time: 50.8 µs\n",
      "Computing the cosine similarity matrix...\n",
      "Done computing similarity matrix.\n"
     ]
    },
    {
     "data": {
      "text/plain": [
       "<surprise.prediction_algorithms.knns.KNNBasic at 0x7f9377143860>"
      ]
     },
     "execution_count": 10,
     "metadata": {},
     "output_type": "execute_result"
    }
   ],
   "source": [
    "%time\n",
    "\n",
    "algo.fit(trainset)"
   ]
  },
  {
   "cell_type": "code",
   "execution_count": 13,
   "id": "d56f2b78",
   "metadata": {},
   "outputs": [
    {
     "name": "stdout",
     "output_type": "stream",
     "text": [
      "RMSE: 1.2814\n",
      "Cosine similarity RMSE is: \n"
     ]
    }
   ],
   "source": [
    "predictions = algo.test(testset)\n",
    "print((\"Cosine similarity RMSE is: \").format(sp.accuracy.rmse(predictions)))"
   ]
  }
 ],
 "metadata": {
  "kernelspec": {
   "display_name": "Python 3",
   "language": "python",
   "name": "python3"
  },
  "language_info": {
   "codemirror_mode": {
    "name": "ipython",
    "version": 3
   },
   "file_extension": ".py",
   "mimetype": "text/x-python",
   "name": "python",
   "nbconvert_exporter": "python",
   "pygments_lexer": "ipython3",
   "version": "3.6.13"
  }
 },
 "nbformat": 4,
 "nbformat_minor": 5
}
