{
 "cells": [
  {
   "cell_type": "markdown",
   "id": "4fc4047a",
   "metadata": {},
   "source": [
    "### Libraries to install"
   ]
  },
  {
   "cell_type": "code",
   "execution_count": null,
   "id": "889141d1",
   "metadata": {},
   "outputs": [],
   "source": [
    "import pandas as pd\n",
    "import surprise as sp"
   ]
  },
  {
   "cell_type": "markdown",
   "id": "e6c38c3d",
   "metadata": {},
   "source": [
    "### Constants"
   ]
  },
  {
   "cell_type": "code",
   "execution_count": null,
   "id": "a9215da8",
   "metadata": {},
   "outputs": [],
   "source": [
    "BYTES_TO_MB_DIV = 0.000001"
   ]
  },
  {
   "cell_type": "markdown",
   "id": "9fc72db9",
   "metadata": {},
   "source": [
    "### Function to check the memory usage of the dataframe"
   ]
  },
  {
   "cell_type": "code",
   "execution_count": null,
   "id": "866fc36d",
   "metadata": {},
   "outputs": [],
   "source": [
    "def df_mem_usage(df):\n",
    "    print()\n",
    "    mem = round(df.memory_usage().sum() * BYTES_TO_MB_DIV, 3) \n",
    "    print(\"Memory usage is \" + str(mem) + \" MB\")"
   ]
  },
  {
   "cell_type": "markdown",
   "id": "f1083943",
   "metadata": {},
   "source": [
    "### Reading the dataset"
   ]
  },
  {
   "cell_type": "code",
   "execution_count": null,
   "id": "0920dcac",
   "metadata": {},
   "outputs": [],
   "source": [
    "%%time\n",
    "\n",
    "cols = ['%%MatrixMarket','matrix','coordinate']\n",
    "\n",
    "dtypes = {\n",
    "    '%%MatrixMarket':'int32', \n",
    "    'matrix':'int16', \n",
    "    'coordinate':'int8'\n",
    "}\n",
    "\n",
    "df = pd.read_csv('data/netflix_mm', delim_whitespace=True, usecols=cols, dtype=dtypes, skiprows=range(1, 3))\n",
    "df.columns = ['userID', 'itemID', 'rating']\n",
    "\n",
    "print(df.head())\n",
    "df_mem_usage(df)"
   ]
  },
  {
   "cell_type": "code",
   "execution_count": null,
   "id": "95cc1a2c",
   "metadata": {},
   "outputs": [],
   "source": [
    "df = df.head(100000)"
   ]
  },
  {
   "cell_type": "markdown",
   "id": "942b9e78",
   "metadata": {},
   "source": [
    "# Cosine similarity"
   ]
  },
  {
   "cell_type": "markdown",
   "id": "95cd82ba",
   "metadata": {},
   "source": [
    "**Documentation of scikit-surprise:**\n",
    "\n",
    "-https://surprise.readthedocs.io/en/stable/matrix_factorization.html <br>\n",
    "-https://datascience.stackexchange.com/questions/6814/how-to-split-train-test-in-recommender-systems"
   ]
  },
  {
   "cell_type": "markdown",
   "id": "fe72b78e",
   "metadata": {},
   "source": [
    "### Declare a reader object to parse the ratings"
   ]
  },
  {
   "cell_type": "code",
   "execution_count": null,
   "id": "5883b563",
   "metadata": {},
   "outputs": [],
   "source": [
    "reader = sp.Reader(rating_scale=(1,5))"
   ]
  },
  {
   "cell_type": "markdown",
   "id": "c221987e",
   "metadata": {},
   "source": [
    "### Load the dataframe in scikit-surprise's format using the Reader"
   ]
  },
  {
   "cell_type": "code",
   "execution_count": null,
   "id": "3ecb2763",
   "metadata": {
    "scrolled": true
   },
   "outputs": [],
   "source": [
    "%%time\n",
    "\n",
    "data = sp.Dataset.load_from_df(df[['userID', 'itemID', 'rating']], reader)"
   ]
  },
  {
   "cell_type": "markdown",
   "id": "38cdeda6",
   "metadata": {},
   "source": [
    "### Divide the data into a training and test set"
   ]
  },
  {
   "cell_type": "code",
   "execution_count": null,
   "id": "e50f6c6f",
   "metadata": {},
   "outputs": [],
   "source": [
    "trainset, testset = sp.model_selection.train_test_split(data, test_size=.25)"
   ]
  },
  {
   "cell_type": "markdown",
   "id": "c0d321e3",
   "metadata": {},
   "source": [
    "### Run the Grid search"
   ]
  },
  {
   "cell_type": "code",
   "execution_count": null,
   "id": "074a33b9",
   "metadata": {},
   "outputs": [],
   "source": [
    "algo = sp.KNNBasic(sim_options = {'name': 'cosine'})"
   ]
  },
  {
   "cell_type": "markdown",
   "id": "f053decc",
   "metadata": {},
   "source": [
    "### Train the model on the training set and evaluate on the test set"
   ]
  },
  {
   "cell_type": "code",
   "execution_count": null,
   "id": "99c6596d",
   "metadata": {},
   "outputs": [],
   "source": [
    "%time\n",
    "\n",
    "algo.fit(trainset)"
   ]
  },
  {
   "cell_type": "code",
   "execution_count": null,
   "id": "d56f2b78",
   "metadata": {},
   "outputs": [],
   "source": [
    "predictions = algo.test(testset)\n",
    "print(sp.accuracy.rmse(predictions))"
   ]
  }
 ],
 "metadata": {
  "kernelspec": {
   "display_name": "Python 3",
   "language": "python",
   "name": "python3"
  },
  "language_info": {
   "codemirror_mode": {
    "name": "ipython",
    "version": 3
   },
   "file_extension": ".py",
   "mimetype": "text/x-python",
   "name": "python",
   "nbconvert_exporter": "python",
   "pygments_lexer": "ipython3",
   "version": "3.6.13"
  }
 },
 "nbformat": 4,
 "nbformat_minor": 5
}
