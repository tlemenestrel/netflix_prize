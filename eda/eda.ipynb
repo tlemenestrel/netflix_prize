{
 "cells": [
  {
   "cell_type": "markdown",
   "id": "4fc4047a",
   "metadata": {},
   "source": [
    "### Libraries to install"
   ]
  },
  {
   "cell_type": "code",
   "execution_count": 88,
   "id": "889141d1",
   "metadata": {},
   "outputs": [],
   "source": [
    "import matplotlib.pyplot as plt\n",
    "import numpy as np\n",
    "import pandas as pd\n",
    "import seaborn as sns"
   ]
  },
  {
   "cell_type": "markdown",
   "id": "e6c38c3d",
   "metadata": {},
   "source": [
    "### Constants"
   ]
  },
  {
   "cell_type": "code",
   "execution_count": 89,
   "id": "a9215da8",
   "metadata": {},
   "outputs": [],
   "source": [
    "BYTES_TO_MB_DIV = 0.000001"
   ]
  },
  {
   "cell_type": "markdown",
   "id": "9fc72db9",
   "metadata": {},
   "source": [
    "### Function to check the memory usage of the dataframe"
   ]
  },
  {
   "cell_type": "code",
   "execution_count": 90,
   "id": "866fc36d",
   "metadata": {},
   "outputs": [],
   "source": [
    "def df_mem_usage(df):\n",
    "    print()\n",
    "    mem = round(df.memory_usage().sum() * BYTES_TO_MB_DIV, 3) \n",
    "    print(\"Memory usage is \" + str(mem) + \" MB\")"
   ]
  },
  {
   "cell_type": "markdown",
   "id": "f1083943",
   "metadata": {},
   "source": [
    "### Reading the dataset"
   ]
  },
  {
   "cell_type": "code",
   "execution_count": 91,
   "id": "0920dcac",
   "metadata": {},
   "outputs": [
    {
     "name": "stdout",
     "output_type": "stream",
     "text": [
      "   user_id  movie_id  rating\n",
      "0        1         1       3\n",
      "1        2         1       5\n",
      "2        3         1       4\n",
      "3        5         1       3\n",
      "4        6         1       3\n",
      "\n",
      "Memory usage is 693.505 MB\n",
      "CPU times: user 21.5 s, sys: 2.16 s, total: 23.7 s\n",
      "Wall time: 23.9 s\n"
     ]
    }
   ],
   "source": [
    "%%time\n",
    "\n",
    "cols = ['%%MatrixMarket','matrix','coordinate']\n",
    "\n",
    "dtypes = {\n",
    "    '%%MatrixMarket':'int32', \n",
    "    'matrix':'int16', \n",
    "    'coordinate':'int8'\n",
    "}\n",
    "\n",
    "df = pd.read_csv('data/netflix_mm', delim_whitespace=True, usecols=cols, dtype=dtypes, skiprows=range(1, 3))\n",
    "df.columns = ['user_id', 'movie_id', 'rating']\n",
    "\n",
    "print(df.head())\n",
    "df_mem_usage(df)"
   ]
  },
  {
   "cell_type": "code",
   "execution_count": 92,
   "id": "94149549",
   "metadata": {},
   "outputs": [
    {
     "name": "stdout",
     "output_type": "stream",
     "text": [
      "   user_id  movie_id  rating\n",
      "0        1         1       3\n",
      "1        2         1       5\n",
      "2        3         1       4\n",
      "3        5         1       3\n",
      "4        6         1       3\n"
     ]
    }
   ],
   "source": [
    "print(df.head())"
   ]
  },
  {
   "cell_type": "markdown",
   "id": "a339ae1b",
   "metadata": {},
   "source": [
    "# EDA"
   ]
  },
  {
   "cell_type": "markdown",
   "id": "646ad239",
   "metadata": {},
   "source": [
    "### Check for missing ratings"
   ]
  },
  {
   "cell_type": "code",
   "execution_count": 93,
   "id": "898f9841",
   "metadata": {},
   "outputs": [
    {
     "data": {
      "text/plain": [
       "False"
      ]
     },
     "execution_count": 93,
     "metadata": {},
     "output_type": "execute_result"
    }
   ],
   "source": [
    "(df['rating'] == 0).any()"
   ]
  },
  {
   "cell_type": "markdown",
   "id": "8b1b03a3",
   "metadata": {},
   "source": [
    "### Total number of ratings in the dataset"
   ]
  },
  {
   "cell_type": "code",
   "execution_count": 94,
   "id": "179bf408",
   "metadata": {},
   "outputs": [
    {
     "name": "stdout",
     "output_type": "stream",
     "text": [
      "This dataset contains 99,072,112 ratings in total.\n"
     ]
    }
   ],
   "source": [
    "num_ratings = len(df.index)\n",
    "\n",
    "print(('This dataset contains {:,} ratings in total.').format(num_ratings))"
   ]
  },
  {
   "cell_type": "markdown",
   "id": "8a21787d",
   "metadata": {},
   "source": [
    "### Total number of viewers in the dataset"
   ]
  },
  {
   "cell_type": "code",
   "execution_count": 95,
   "id": "7184bdb3",
   "metadata": {},
   "outputs": [
    {
     "name": "stdout",
     "output_type": "stream",
     "text": [
      "This dataset contains 480,189 viewers in total.\n"
     ]
    }
   ],
   "source": [
    "num_viewers = len(pd.unique(df['user_id']))\n",
    "  \n",
    "print(('This dataset contains {:,} viewers in total.').format(num_viewers))"
   ]
  },
  {
   "cell_type": "markdown",
   "id": "88c89fd3",
   "metadata": {},
   "source": [
    "### Total number of movies in the dataset"
   ]
  },
  {
   "cell_type": "code",
   "execution_count": 96,
   "id": "1a35f25e",
   "metadata": {},
   "outputs": [
    {
     "name": "stdout",
     "output_type": "stream",
     "text": [
      "This dataset contains 17,770 movies in total.\n"
     ]
    }
   ],
   "source": [
    "num_movies = len(pd.unique(df['movie_id']))\n",
    "  \n",
    "print(('This dataset contains {:,} movies in total.').format(num_movies))"
   ]
  },
  {
   "cell_type": "markdown",
   "id": "8edab583",
   "metadata": {},
   "source": [
    "### Average number of ratings per movie"
   ]
  },
  {
   "cell_type": "code",
   "execution_count": 97,
   "id": "59910a91",
   "metadata": {},
   "outputs": [
    {
     "name": "stdout",
     "output_type": "stream",
     "text": [
      "Each movies has on average 5,575 ratings.\n"
     ]
    }
   ],
   "source": [
    "avg_ratings_per_movie = round(num_ratings / num_movies)\n",
    "\n",
    "print(('Each movies has on average {:,} ratings.').format(avg_ratings_per_movie))"
   ]
  },
  {
   "cell_type": "markdown",
   "id": "1ebafb1f",
   "metadata": {},
   "source": [
    "### Average number of ratings per viewer"
   ]
  },
  {
   "cell_type": "code",
   "execution_count": 98,
   "id": "5cf69e52",
   "metadata": {},
   "outputs": [
    {
     "name": "stdout",
     "output_type": "stream",
     "text": [
      "Each user has rated on average 206 movies.\n"
     ]
    }
   ],
   "source": [
    "avg_ratings_per_viewer = round(num_ratings / num_viewers)\n",
    "\n",
    "print(('Each user has rated on average {:,} movies.').format(avg_ratings_per_viewer))"
   ]
  },
  {
   "cell_type": "markdown",
   "id": "7667b8b8",
   "metadata": {},
   "source": [
    "### Checking the distribution of the number of ratings per movie"
   ]
  },
  {
   "cell_type": "code",
   "execution_count": 99,
   "id": "b4f6e19d",
   "metadata": {},
   "outputs": [],
   "source": [
    "dist_ratings_movies = df.groupby('movie_id').size().sort_values()"
   ]
  },
  {
   "cell_type": "code",
   "execution_count": 100,
   "id": "03cf4bf7",
   "metadata": {},
   "outputs": [
    {
     "data": {
      "image/png": "[encoded data removed]",
      "text/plain": [
       "<Figure size 720x504 with 1 Axes>"
      ]
     },
     "metadata": {
      "needs_background": "light"
     },
     "output_type": "display_data"
    }
   ],
   "source": [
    "fig = plt.figure(figsize = (10,7))\n",
    "ax = fig.gca()\n",
    "dist_ratings_movies.hist(ax = ax, bins=1000, range=(0, 2000))\n",
    "\n",
    "plt.xlabel(\"Numbers of ratings given\", fontsize=15)  \n",
    "plt.ylabel(\"Numbers of movies\", fontsize=15)  \n",
    "plt.show()"
   ]
  },
  {
   "cell_type": "markdown",
   "id": "84620bb5",
   "metadata": {},
   "source": [
    "### Checking the distribution of the number of ratings per user"
   ]
  },
  {
   "cell_type": "code",
   "execution_count": 101,
   "id": "625959d6",
   "metadata": {},
   "outputs": [],
   "source": [
    "dist_ratings_user = df.groupby('user_id').size().sort_values()"
   ]
  },
  {
   "cell_type": "code",
   "execution_count": 110,
   "id": "857f40c6",
   "metadata": {},
   "outputs": [
    {
     "data": {
      "image/png": "[encoded data removed]",
      "text/plain": [
       "<Figure size 720x360 with 1 Axes>"
      ]
     },
     "metadata": {
      "needs_background": "light"
     },
     "output_type": "display_data"
    }
   ],
   "source": [
    "fig = plt.figure(figsize = (10,5))\n",
    "ax = fig.gca()\n",
    "dist_ratings_user.hist(ax = ax, bins=1000, range=(0, 1000))\n",
    "\n",
    "plt.xlabel(\"Numbers of movies seen\", fontsize=15)  \n",
    "plt.ylabel(\"Numbers of viewers\", fontsize=15)\n",
    "\n",
    "plt.savefig('images/dist.jpg', dpi=1500)\n",
    "plt.show()"
   ]
  },
  {
   "cell_type": "markdown",
   "id": "044c9f4a",
   "metadata": {},
   "source": [
    "### Repartition of the grades"
   ]
  },
  {
   "cell_type": "code",
   "execution_count": 115,
   "id": "6418a533",
   "metadata": {},
   "outputs": [
    {
     "data": {
      "image/png": "[encoded data removed]",
      "text/plain": [
       "<Figure size 720x360 with 1 Axes>"
      ]
     },
     "metadata": {
      "needs_background": "light"
     },
     "output_type": "display_data"
    }
   ],
   "source": [
    "movie_ratings = sorted(df.rating.unique())\n",
    "\n",
    "fig = plt.figure(figsize = (10,5))\n",
    "ax = sns.countplot(x='rating', data=df, order=movie_ratings)\n",
    "\n",
    "plt.xlabel(\"Rating given by users\", fontsize=15)  \n",
    "plt.ylabel(\"Count\", fontsize=15)\n",
    "\n",
    "patches = ax.patches\n",
    "percentage = [4, 10, 28, 33, 22]\n",
    "\n",
    "for i in range(len(patches)):\n",
    "    x = patches[i].get_x() + patches[i].get_width()/2\n",
    "    y = patches[i].get_height()+.05\n",
    "    ax.annotate('{}%'.format(percentage[i]), (x, y), ha='center')\n",
    "\n",
    "plt.savefig('images/ratings.jpg', dpi=1500)\n",
    "plt.show()"
   ]
  },
  {
   "cell_type": "markdown",
   "id": "8337d0ff",
   "metadata": {},
   "source": [
    "### Repartition of the ratings"
   ]
  },
  {
   "cell_type": "code",
   "execution_count": 104,
   "id": "851a7e4d",
   "metadata": {},
   "outputs": [
    {
     "name": "stdout",
     "output_type": "stream",
     "text": [
      "Percentage of movies that were given a rating of 4: 33 %\n",
      "Percentage of movies that were given a rating of 3: 28 %\n",
      "Percentage of movies that were given a rating of 5: 22 %\n",
      "Percentage of movies that were given a rating of 2: 10 %\n",
      "Percentage of movies that were given a rating of 1: 4 %\n"
     ]
    }
   ],
   "source": [
    "ratings = df.rating.value_counts()\n",
    "\n",
    "for rating in ratings.index:\n",
    "    percentage = int(ratings[rating] / len(df.index) * 100)\n",
    "    print(('Percentage of movies that were given a rating of {}: {} %').format(rating, percentage))"
   ]
  },
  {
   "cell_type": "markdown",
   "id": "1f52a7c1",
   "metadata": {},
   "source": [
    "### Mean of ratings"
   ]
  },
  {
   "cell_type": "code",
   "execution_count": 118,
   "id": "bab74dc8",
   "metadata": {},
   "outputs": [
    {
     "name": "stdout",
     "output_type": "stream",
     "text": [
      "3.603304257811724\n"
     ]
    }
   ],
   "source": [
    "print(df['rating'].mean())"
   ]
  },
  {
   "cell_type": "code",
   "execution_count": null,
   "id": "3a6b6185",
   "metadata": {},
   "outputs": [],
   "source": []
  }
 ],
 "metadata": {
  "kernelspec": {
   "display_name": "Python 3",
   "language": "python",
   "name": "python3"
  },
  "language_info": {
   "codemirror_mode": {
    "name": "ipython",
    "version": 3
   },
   "file_extension": ".py",
   "mimetype": "text/x-python",
   "name": "python",
   "nbconvert_exporter": "python",
   "pygments_lexer": "ipython3",
   "version": "3.6.13"
  }
 },
 "nbformat": 4,
 "nbformat_minor": 5
}
