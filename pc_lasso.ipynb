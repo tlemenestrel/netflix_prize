{
 "cells": [
  {
   "cell_type": "markdown",
   "id": "4fc4047a",
   "metadata": {},
   "source": [
    "### Libraries to install"
   ]
  },
  {
   "cell_type": "code",
   "execution_count": 58,
   "id": "889141d1",
   "metadata": {},
   "outputs": [],
   "source": [
    "from math import sqrt\n",
    "import numpy as np\n",
    "import pandas as pd\n",
    "from sklearn.decomposition import PCA\n",
    "from sklearn.linear_model import Lasso\n",
    "from sklearn.metrics import mean_squared_error\n",
    "from sklearn.model_selection import train_test_split"
   ]
  },
  {
   "cell_type": "markdown",
   "id": "e6c38c3d",
   "metadata": {},
   "source": [
    "### Constants"
   ]
  },
  {
   "cell_type": "code",
   "execution_count": 59,
   "id": "a9215da8",
   "metadata": {},
   "outputs": [],
   "source": [
    "BYTES_TO_MB_DIV = 0.000001"
   ]
  },
  {
   "cell_type": "markdown",
   "id": "9fc72db9",
   "metadata": {},
   "source": [
    "### Function to check the memory usage of the dataframe"
   ]
  },
  {
   "cell_type": "code",
   "execution_count": 60,
   "id": "866fc36d",
   "metadata": {},
   "outputs": [],
   "source": [
    "def df_mem_usage(df):\n",
    "    print()\n",
    "    mem = round(df.memory_usage().sum() * BYTES_TO_MB_DIV, 3) \n",
    "    print(\"Memory usage is \" + str(mem) + \" MB\")"
   ]
  },
  {
   "cell_type": "markdown",
   "id": "f1083943",
   "metadata": {},
   "source": [
    "### Reading the dataset"
   ]
  },
  {
   "cell_type": "code",
   "execution_count": 61,
   "id": "0920dcac",
   "metadata": {},
   "outputs": [
    {
     "name": "stdout",
     "output_type": "stream",
     "text": [
      "   userID  itemID  rating\n",
      "0       1       1       3\n",
      "1       2       1       5\n",
      "2       3       1       4\n",
      "3       5       1       3\n",
      "4       6       1       3\n",
      "\n",
      "Memory usage is 693.505 MB\n",
      "CPU times: user 21.7 s, sys: 2.44 s, total: 24.2 s\n",
      "Wall time: 24.7 s\n"
     ]
    }
   ],
   "source": [
    "%%time\n",
    "\n",
    "cols = ['%%MatrixMarket','matrix','coordinate']\n",
    "\n",
    "dtypes = {\n",
    "    '%%MatrixMarket':'int32', \n",
    "    'matrix':'int16', \n",
    "    'coordinate':'int8'\n",
    "}\n",
    "\n",
    "df = pd.read_csv('data/netflix_mm', delim_whitespace=True, usecols=cols, dtype=dtypes, skiprows=range(1, 3))\n",
    "df.columns = ['userID', 'itemID', 'rating']\n",
    "\n",
    "print(df.head())tl\n",
    "df_mem_usage(df)"
   ]
  },
  {
   "cell_type": "markdown",
   "id": "2d007afe",
   "metadata": {},
   "source": [
    "### Only keep the first 100,000 rows to make the code run faster"
   ]
  },
  {
   "cell_type": "code",
   "execution_count": 78,
   "id": "cda1109d",
   "metadata": {},
   "outputs": [],
   "source": [
    "df = df.head(10000)"
   ]
  },
  {
   "cell_type": "code",
   "execution_count": 63,
   "id": "94149549",
   "metadata": {},
   "outputs": [
    {
     "name": "stdout",
     "output_type": "stream",
     "text": [
      "   userID  itemID  rating\n",
      "0       1       1       3\n",
      "1       2       1       5\n",
      "2       3       1       4\n",
      "3       5       1       3\n",
      "4       6       1       3\n"
     ]
    }
   ],
   "source": [
    "print(df.head())"
   ]
  },
  {
   "cell_type": "markdown",
   "id": "b73d2803",
   "metadata": {},
   "source": [
    "# Metrics"
   ]
  },
  {
   "cell_type": "code",
   "execution_count": 64,
   "id": "94b257a5",
   "metadata": {},
   "outputs": [],
   "source": [
    "def rmse(y_pred, y_true):\n",
    "    \n",
    "    return sqrt(mean_squared_error(y_pred, y_true))"
   ]
  },
  {
   "cell_type": "markdown",
   "id": "632daee0",
   "metadata": {},
   "source": [
    "# pcLasso"
   ]
  },
  {
   "cell_type": "markdown",
   "id": "ab876ccb",
   "metadata": {},
   "source": [
    "### Pre-processing"
   ]
  },
  {
   "cell_type": "code",
   "execution_count": null,
   "id": "0e6e9529",
   "metadata": {},
   "outputs": [],
   "source": [
    "%%time\n",
    "\n",
    "df = pd.get_dummies(df, columns=['movie_id'], sparse=True)\n",
    "df_mem_usage(df)"
   ]
  },
  {
   "cell_type": "code",
   "execution_count": null,
   "id": "964da6d1",
   "metadata": {},
   "outputs": [],
   "source": [
    "print(len(df.columns))"
   ]
  },
  {
   "cell_type": "code",
   "execution_count": null,
   "id": "7bf65403",
   "metadata": {},
   "outputs": [],
   "source": [
    "df_mem_usage(df)"
   ]
  },
  {
   "cell_type": "code",
   "execution_count": null,
   "id": "76d71484",
   "metadata": {},
   "outputs": [],
   "source": [
    "print (df.drop(['user_id','rating'], inplace=False, axis=1).sparse.density)"
   ]
  },
  {
   "cell_type": "markdown",
   "id": "580acd47",
   "metadata": {},
   "source": [
    "### Train-test-split"
   ]
  },
  {
   "cell_type": "code",
   "execution_count": null,
   "id": "e721c3f7",
   "metadata": {},
   "outputs": [],
   "source": [
    "y = df['rating'].values\n",
    "X = df.drop(['rating'], axis=1).values"
   ]
  },
  {
   "cell_type": "code",
   "execution_count": null,
   "id": "20e449a7",
   "metadata": {},
   "outputs": [],
   "source": [
    "X_training, X_test, y_training, y_test = train_test_split(X, y, test_size=0.1)\n",
    "X_train, X_val, y_train, y_val = train_test_split(X_training, y_training, test_size=0.1)"
   ]
  },
  {
   "cell_type": "code",
   "execution_count": null,
   "id": "744e0cf0",
   "metadata": {},
   "outputs": [],
   "source": [
    "print(X_train.shape)\n",
    "print(y_train.shape)\n",
    "\n",
    "print(X_test.shape)\n",
    "print(y_test.shape)\n",
    "\n",
    "print(X_val.shape)\n",
    "print(y_val.shape)"
   ]
  },
  {
   "cell_type": "markdown",
   "id": "6e14663f",
   "metadata": {},
   "source": [
    "### PCA"
   ]
  },
  {
   "cell_type": "code",
   "execution_count": null,
   "id": "91d7b70c",
   "metadata": {},
   "outputs": [],
   "source": [
    "def apply_pca(X_train, X_val, X_test):\n",
    "    \n",
    "    pca = PCA(n_components=5)\n",
    "    X_train = pca.fit_transform(X_train)\n",
    "    pca = PCA(n_components=5)\n",
    "    X_test = pca.fit_transform(X_test)\n",
    "    pca = PCA(n_components=5)\n",
    "    X_val = pca.fit_transform(X_val)\n",
    "    \n",
    "    return X_train, X_val, X_test"
   ]
  },
  {
   "cell_type": "code",
   "execution_count": null,
   "id": "9dcafd32",
   "metadata": {},
   "outputs": [],
   "source": [
    "%%time\n",
    "\n",
    "X_train, X_val, X_test = apply_pca(X_train, X_val, X_test)"
   ]
  },
  {
   "cell_type": "code",
   "execution_count": null,
   "id": "2628279b",
   "metadata": {},
   "outputs": [],
   "source": [
    "print(X_train.shape)\n",
    "print(y_train.shape)\n",
    "\n",
    "print(X_test.shape)\n",
    "print(y_test.shape)\n",
    "\n",
    "print(X_val.shape)\n",
    "print(y_val.shape)"
   ]
  },
  {
   "cell_type": "markdown",
   "id": "bc6c23f3",
   "metadata": {},
   "source": [
    "### Lasso"
   ]
  },
  {
   "cell_type": "code",
   "execution_count": null,
   "id": "3a087990",
   "metadata": {},
   "outputs": [],
   "source": [
    "def flooring(y_pred):\n",
    "    \n",
    "    y_pred[y_pred < 0] = 1.\n",
    "    y_pred[y_pred > 5] = 5.\n",
    "\n",
    "    y_pred = np.round(y_pred)\n",
    "    \n",
    "    return y_pred"
   ]
  },
  {
   "cell_type": "code",
   "execution_count": null,
   "id": "d61ecf5d",
   "metadata": {},
   "outputs": [],
   "source": [
    "%%time\n",
    "\n",
    "lambda_values = [0.00001, 0.0001, 0.001, 0.005, 0.01, 0.05,  0.1, 0.2, 0.3, 0.4, 0.5, 1, 2, 5, 10, 20, 30, 40, 50]\n",
    "\n",
    "for lambda_val in lambda_values:\n",
    "    lasso = Lasso(lambda_val)\n",
    "    lasso.fit(X_train, y_train)\n",
    "    y_pred = lasso.predict(X_val)\n",
    "    y_pred = flooring(y_pred)\n",
    "    rmse_lasso = rmse(y_pred, y_val)\n",
    "    print((\"Lasso RMSE with Lambda={} is {}\").format(lambda_val, rmse_lasso))"
   ]
  }
 ],
 "metadata": {
  "kernelspec": {
   "display_name": "Python 3",
   "language": "python",
   "name": "python3"
  },
  "language_info": {
   "codemirror_mode": {
    "name": "ipython",
    "version": 3
   },
   "file_extension": ".py",
   "mimetype": "text/x-python",
   "name": "python",
   "nbconvert_exporter": "python",
   "pygments_lexer": "ipython3",
   "version": "3.6.13"
  }
 },
 "nbformat": 4,
 "nbformat_minor": 5
}
