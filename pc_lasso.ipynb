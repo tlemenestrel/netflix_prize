{
 "cells": [
  {
   "cell_type": "markdown",
   "id": "4fc4047a",
   "metadata": {},
   "source": [
    "### Libraries to install"
   ]
  },
  {
   "cell_type": "code",
   "execution_count": null,
   "id": "889141d1",
   "metadata": {},
   "outputs": [],
   "source": [
    "from math import sqrt\n",
    "import numpy as np\n",
    "import pandas as pd\n",
    "from scipy.sparse import csr_matrix\n",
    "from sklearn.decomposition import PCA\n",
    "from sklearn.linear_model import Lasso\n",
    "from sklearn.metrics import mean_squared_error\n",
    "from sklearn.model_selection import train_test_split"
   ]
  },
  {
   "cell_type": "markdown",
   "id": "e6c38c3d",
   "metadata": {},
   "source": [
    "### Constants"
   ]
  },
  {
   "cell_type": "code",
   "execution_count": 2,
   "id": "a9215da8",
   "metadata": {},
   "outputs": [],
   "source": [
    "BYTES_TO_MB_DIV = 0.000001"
   ]
  },
  {
   "cell_type": "markdown",
   "id": "9fc72db9",
   "metadata": {},
   "source": [
    "### Function to check the memory usage of the dataframe"
   ]
  },
  {
   "cell_type": "code",
   "execution_count": 3,
   "id": "866fc36d",
   "metadata": {},
   "outputs": [],
   "source": [
    "def df_mem_usage(df):\n",
    "    print()\n",
    "    mem = round(df.memory_usage().sum() * BYTES_TO_MB_DIV, 3) \n",
    "    print(\"Memory usage is \" + str(mem) + \" MB\")"
   ]
  },
  {
   "cell_type": "markdown",
   "id": "f1083943",
   "metadata": {},
   "source": [
    "### Reading the dataset"
   ]
  },
  {
   "cell_type": "code",
   "execution_count": 4,
   "id": "0920dcac",
   "metadata": {},
   "outputs": [
    {
     "name": "stdout",
     "output_type": "stream",
     "text": [
      "   user_id  movie_id  rating\n",
      "0        1         1       3\n",
      "1        2         1       5\n",
      "2        3         1       4\n",
      "3        5         1       3\n",
      "4        6         1       3\n",
      "\n",
      "Memory usage is 693.505 MB\n",
      "CPU times: user 36.7 s, sys: 1.34 s, total: 38 s\n",
      "Wall time: 38.3 s\n"
     ]
    }
   ],
   "source": [
    "%%time\n",
    "\n",
    "cols = ['%%MatrixMarket','matrix','coordinate']\n",
    "\n",
    "dtypes = {\n",
    "    '%%MatrixMarket':'int32', \n",
    "    'matrix':'int16', \n",
    "    'coordinate':'int8'\n",
    "}\n",
    "\n",
    "df_read = pd.read_csv('data/netflix_mm', delim_whitespace=True, usecols=cols, dtype=dtypes, skiprows=range(1, 3))\n",
    "df_read.columns = ['user_id', 'movie_id', 'rating']\n",
    "\n",
    "print(df_read.head())\n",
    "df_mem_usage(df_read)"
   ]
  },
  {
   "cell_type": "markdown",
   "id": "2d007afe",
   "metadata": {},
   "source": [
    "### Only keep the first 100,000 rows to make the code run faster"
   ]
  },
  {
   "cell_type": "code",
   "execution_count": 5,
   "id": "cda1109d",
   "metadata": {},
   "outputs": [],
   "source": [
    "df = df_read.head(5000000)"
   ]
  },
  {
   "cell_type": "markdown",
   "id": "b73d2803",
   "metadata": {},
   "source": [
    "# Metrics"
   ]
  },
  {
   "cell_type": "code",
   "execution_count": 6,
   "id": "94b257a5",
   "metadata": {},
   "outputs": [],
   "source": [
    "def rmse(y_pred, y_true):\n",
    "    \n",
    "    return sqrt(mean_squared_error(y_pred, y_true))"
   ]
  },
  {
   "cell_type": "markdown",
   "id": "632daee0",
   "metadata": {},
   "source": [
    "# pcLasso"
   ]
  },
  {
   "cell_type": "markdown",
   "id": "91a09eb2",
   "metadata": {},
   "source": [
    "### Pivot the table"
   ]
  },
  {
   "cell_type": "code",
   "execution_count": 7,
   "id": "87254d2a",
   "metadata": {},
   "outputs": [],
   "source": [
    "y = df['rating'].values"
   ]
  },
  {
   "cell_type": "code",
   "execution_count": null,
   "id": "b56895ac",
   "metadata": {},
   "outputs": [],
   "source": [
    "%%time\n",
    "\n",
    "df = df.pivot_table(index=df.index, columns='movie_id', values='rating', fill_value=0, dropna=False)"
   ]
  },
  {
   "cell_type": "code",
   "execution_count": 165,
   "id": "e721c3f7",
   "metadata": {},
   "outputs": [],
   "source": [
    "X = df.values"
   ]
  },
  {
   "cell_type": "code",
   "execution_count": 145,
   "id": "7bf65403",
   "metadata": {},
   "outputs": [
    {
     "name": "stdout",
     "output_type": "stream",
     "text": [
      "\n",
      "Memory usage is 1936.0 MB\n"
     ]
    }
   ],
   "source": [
    "df_mem_usage(df)"
   ]
  },
  {
   "cell_type": "markdown",
   "id": "580acd47",
   "metadata": {},
   "source": [
    "### Train-test-split"
   ]
  },
  {
   "cell_type": "code",
   "execution_count": 166,
   "id": "20e449a7",
   "metadata": {},
   "outputs": [],
   "source": [
    "X_training, X_test, y_training, y_test = train_test_split(X, y, test_size=0.20)\n",
    "X_train, X_val, y_train, y_val = train_test_split(X_training, y_training, test_size=0.5)"
   ]
  },
  {
   "cell_type": "code",
   "execution_count": 167,
   "id": "744e0cf0",
   "metadata": {},
   "outputs": [
    {
     "name": "stdout",
     "output_type": "stream",
     "text": [
      "(400000, 241)\n",
      "(400000,)\n",
      "(200000, 241)\n",
      "(200000,)\n",
      "(400000, 241)\n",
      "(400000,)\n"
     ]
    }
   ],
   "source": [
    "print(X_train.shape)\n",
    "print(y_train.shape)\n",
    "\n",
    "print(X_test.shape)\n",
    "print(y_test.shape)\n",
    "\n",
    "print(X_val.shape)\n",
    "print(y_val.shape)"
   ]
  },
  {
   "cell_type": "markdown",
   "id": "6e14663f",
   "metadata": {},
   "source": [
    "### PCA"
   ]
  },
  {
   "cell_type": "code",
   "execution_count": 180,
   "id": "91d7b70c",
   "metadata": {},
   "outputs": [],
   "source": [
    "def apply_pca(X_train, X_val, X_test, num_components=None):\n",
    "    \n",
    "    pca = PCA(n_components=num_components)\n",
    "    X_train = pca.fit_transform(X_train)\n",
    "    pca = PCA(n_components=num_components)\n",
    "    X_test = pca.fit_transform(X_test)\n",
    "    pca = PCA(n_components=num_components)\n",
    "    X_val = pca.fit_transform(X_val)\n",
    "    \n",
    "    return X_train, X_val, X_test"
   ]
  },
  {
   "cell_type": "code",
   "execution_count": 184,
   "id": "9dcafd32",
   "metadata": {},
   "outputs": [
    {
     "name": "stdout",
     "output_type": "stream",
     "text": [
      "CPU times: user 3.84 s, sys: 356 ms, total: 4.2 s\n",
      "Wall time: 1.27 s\n"
     ]
    }
   ],
   "source": [
    "%%time\n",
    "\n",
    "X_train, X_val, X_test = apply_pca(X_train, X_val, X_test, 30)"
   ]
  },
  {
   "cell_type": "code",
   "execution_count": 185,
   "id": "2628279b",
   "metadata": {},
   "outputs": [
    {
     "name": "stdout",
     "output_type": "stream",
     "text": [
      "(400000, 30)\n",
      "(400000,)\n",
      "(200000, 30)\n",
      "(200000,)\n",
      "(400000, 30)\n",
      "(400000,)\n"
     ]
    }
   ],
   "source": [
    "print(X_train.shape)\n",
    "print(y_train.shape)\n",
    "\n",
    "print(X_test.shape)\n",
    "print(y_test.shape)\n",
    "\n",
    "print(X_val.shape)\n",
    "print(y_val.shape)"
   ]
  },
  {
   "cell_type": "markdown",
   "id": "bc6c23f3",
   "metadata": {},
   "source": [
    "### Lasso"
   ]
  },
  {
   "cell_type": "code",
   "execution_count": 186,
   "id": "3a087990",
   "metadata": {},
   "outputs": [],
   "source": [
    "def flooring(y_pred):\n",
    "    \n",
    "    y_pred[y_pred < 0] = 1.\n",
    "    y_pred[y_pred > 5] = 5.\n",
    "\n",
    "    y_pred = np.round(y_pred)\n",
    "    \n",
    "    return y_pred"
   ]
  },
  {
   "cell_type": "markdown",
   "id": "2cbf4e56",
   "metadata": {},
   "source": [
    "### Find the best value of lambda on the validation set"
   ]
  },
  {
   "cell_type": "code",
   "execution_count": 187,
   "id": "d61ecf5d",
   "metadata": {},
   "outputs": [
    {
     "name": "stdout",
     "output_type": "stream",
     "text": [
      "Lasso RMSE with Lambda=1e-05 is 1.074804633410184\n",
      "Lasso RMSE with Lambda=0.0001 is 1.074804633410184\n",
      "Lasso RMSE with Lambda=0.001 is 1.0721613684515965\n",
      "Lasso RMSE with Lambda=0.005 is 1.0632391546590072\n",
      "Lasso RMSE with Lambda=0.01 is 1.0690848890523146\n",
      "Lasso RMSE with Lambda=0.05 is 1.0891476024855402\n",
      "Lasso RMSE with Lambda=0.1 is 1.1663908007181811\n",
      "Lasso RMSE with Lambda=0.2 is 1.1345659963175345\n",
      "Lasso RMSE with Lambda=0.3 is 1.1345659963175345\n",
      "Lasso RMSE with Lambda=0.4 is 1.1345659963175345\n",
      "Lasso RMSE with Lambda=0.5 is 1.1345659963175345\n",
      "Lasso RMSE with Lambda=1 is 1.1345659963175345\n",
      "Lasso RMSE with Lambda=2 is 1.1345659963175345\n",
      "Lasso RMSE with Lambda=5 is 1.1345659963175345\n",
      "Lasso RMSE with Lambda=10 is 1.1345659963175345\n",
      "Lasso RMSE with Lambda=20 is 1.1345659963175345\n",
      "Lasso RMSE with Lambda=30 is 1.1345659963175345\n",
      "Lasso RMSE with Lambda=40 is 1.1345659963175345\n",
      "Lasso RMSE with Lambda=50 is 1.1345659963175345\n",
      "Lasso RMSE with Lambda=100 is 1.1345659963175345\n",
      "Lasso RMSE with Lambda=200 is 1.1345659963175345\n",
      "Lasso RMSE with Lambda=500 is 1.1345659963175345\n",
      "Lasso RMSE with Lambda=1000 is 1.1345659963175345\n",
      "Lasso RMSE with Lambda=100000 is 1.1345659963175345\n",
      "CPU times: user 15.4 s, sys: 4.61 s, total: 20 s\n",
      "Wall time: 3.37 s\n"
     ]
    }
   ],
   "source": [
    "%%time\n",
    "\n",
    "lambda_values = [0.00001, 0.0001, 0.001, 0.005, 0.01, 0.05,  0.1, 0.2, 0.3, 0.4, 0.5, 1, 2, 5, 10, 20, 30, 40, 50, 100, 200, 500, 1000, 100000]\n",
    "rmse_list = []\n",
    "\n",
    "for lambda_val in lambda_values:\n",
    "    lasso = Lasso(lambda_val)\n",
    "    lasso.fit(X_train, y_train)\n",
    "    y_pred = lasso.predict(X_val)\n",
    "    y_pred = flooring(y_pred)\n",
    "    rmse_lasso = rmse(y_pred, y_val)\n",
    "    rmse_list.append(rmse_lasso)\n",
    "    print((\"Lasso RMSE with Lambda={} is {}\").format(lambda_val, rmse_lasso))"
   ]
  },
  {
   "cell_type": "code",
   "execution_count": 188,
   "id": "20f3cdd9",
   "metadata": {},
   "outputs": [
    {
     "name": "stdout",
     "output_type": "stream",
     "text": [
      "Best lambda for Lasso is: 0.005\n"
     ]
    }
   ],
   "source": [
    "best_lambda = lambda_values[rmse_list.index(min(rmse_list))]\n",
    "print(('Best lambda for Lasso is: {}').format(best_lambda))"
   ]
  },
  {
   "cell_type": "markdown",
   "id": "c4ce293a",
   "metadata": {},
   "source": [
    "### Evalue results on the test test"
   ]
  },
  {
   "cell_type": "code",
   "execution_count": 189,
   "id": "9dcd8bd9",
   "metadata": {},
   "outputs": [
    {
     "name": "stdout",
     "output_type": "stream",
     "text": [
      "Lasso RMSE with Lambda=100000 is 1.0361056895896288\n"
     ]
    }
   ],
   "source": [
    "lasso = Lasso(best_lambda)\n",
    "lasso.fit(X_train, y_train)\n",
    "y_pred = lasso.predict(X_test)\n",
    "y_pred = flooring(y_pred)\n",
    "rmse_lasso = rmse(y_pred, y_test)\n",
    "print((\"Lasso RMSE with Lambda={} is {}\").format(lambda_val, rmse_lasso))"
   ]
  }
 ],
 "metadata": {
  "kernelspec": {
   "display_name": "Python 3",
   "language": "python",
   "name": "python3"
  },
  "language_info": {
   "codemirror_mode": {
    "name": "ipython",
    "version": 3
   },
   "file_extension": ".py",
   "mimetype": "text/x-python",
   "name": "python",
   "nbconvert_exporter": "python",
   "pygments_lexer": "ipython3",
   "version": "3.6.13"
  }
 },
 "nbformat": 4,
 "nbformat_minor": 5
}
