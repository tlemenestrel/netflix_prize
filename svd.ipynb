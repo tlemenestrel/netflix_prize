{
 "cells": [
  {
   "cell_type": "markdown",
   "id": "4fc4047a",
   "metadata": {},
   "source": [
    "### Libraries to install"
   ]
  },
  {
   "cell_type": "code",
   "execution_count": 51,
   "id": "889141d1",
   "metadata": {},
   "outputs": [],
   "source": [
    "import pandas as pd\n",
    "import surprise as sp"
   ]
  },
  {
   "cell_type": "markdown",
   "id": "e6c38c3d",
   "metadata": {},
   "source": [
    "### Constants"
   ]
  },
  {
   "cell_type": "code",
   "execution_count": 52,
   "id": "a9215da8",
   "metadata": {},
   "outputs": [],
   "source": [
    "BYTES_TO_MB_DIV = 0.000001"
   ]
  },
  {
   "cell_type": "markdown",
   "id": "9fc72db9",
   "metadata": {},
   "source": [
    "### Function to check the memory usage of the dataframe"
   ]
  },
  {
   "cell_type": "code",
   "execution_count": 53,
   "id": "866fc36d",
   "metadata": {},
   "outputs": [],
   "source": [
    "def df_mem_usage(df):\n",
    "    print()\n",
    "    mem = round(df.memory_usage().sum() * BYTES_TO_MB_DIV, 3) \n",
    "    print(\"Memory usage is \" + str(mem) + \" MB\")"
   ]
  },
  {
   "cell_type": "markdown",
   "id": "f1083943",
   "metadata": {},
   "source": [
    "### Reading the dataset"
   ]
  },
  {
   "cell_type": "code",
   "execution_count": 54,
   "id": "0920dcac",
   "metadata": {},
   "outputs": [
    {
     "name": "stdout",
     "output_type": "stream",
     "text": [
      "   userID  itemID  rating\n",
      "0       1       1       3\n",
      "1       2       1       5\n",
      "2       3       1       4\n",
      "3       5       1       3\n",
      "4       6       1       3\n",
      "\n",
      "Memory usage is 693.505 MB\n",
      "CPU times: user 22.7 s, sys: 2.51 s, total: 25.2 s\n",
      "Wall time: 26.4 s\n"
     ]
    }
   ],
   "source": [
    "%%time\n",
    "\n",
    "cols = ['%%MatrixMarket','matrix','coordinate']\n",
    "\n",
    "dtypes = {\n",
    "    '%%MatrixMarket':'int32', \n",
    "    'matrix':'int16', \n",
    "    'coordinate':'int8'\n",
    "}\n",
    "\n",
    "df = pd.read_csv('data/netflix_mm', delim_whitespace=True, usecols=cols, dtype=dtypes, skiprows=range(1, 3))\n",
    "df.columns = ['userID', 'itemID', 'rating']\n",
    "\n",
    "print(df.head())\n",
    "df_mem_usage(df)"
   ]
  },
  {
   "cell_type": "code",
   "execution_count": 55,
   "id": "448a36b9",
   "metadata": {},
   "outputs": [],
   "source": [
    "df = df.head(10000)"
   ]
  },
  {
   "cell_type": "markdown",
   "id": "b73d2803",
   "metadata": {},
   "source": [
    "# Metrics"
   ]
  },
  {
   "cell_type": "code",
   "execution_count": 56,
   "id": "94b257a5",
   "metadata": {},
   "outputs": [],
   "source": [
    "def rmse(y_pred, y_true):\n",
    "    \n",
    "    return sqrt(mean_squared_error(y_pred, y_true))"
   ]
  },
  {
   "cell_type": "markdown",
   "id": "942b9e78",
   "metadata": {},
   "source": [
    "# SVD"
   ]
  },
  {
   "cell_type": "markdown",
   "id": "95cd82ba",
   "metadata": {},
   "source": [
    "**Documentation of scikit-surprise:**\n",
    "\n",
    "-https://surprise.readthedocs.io/en/stable/matrix_factorization.html <br>\n",
    "-https://datascience.stackexchange.com/questions/6814/how-to-split-train-test-in-recommender-systems"
   ]
  },
  {
   "cell_type": "markdown",
   "id": "fe72b78e",
   "metadata": {},
   "source": [
    "### Declare a reader object to parse the ratings"
   ]
  },
  {
   "cell_type": "code",
   "execution_count": 57,
   "id": "5883b563",
   "metadata": {},
   "outputs": [],
   "source": [
    "reader = sp.Reader(rating_scale=(1,5))"
   ]
  },
  {
   "cell_type": "markdown",
   "id": "c221987e",
   "metadata": {},
   "source": [
    "### Load the dataframe in scikit-surprise's format using the Reader"
   ]
  },
  {
   "cell_type": "code",
   "execution_count": 58,
   "id": "3ecb2763",
   "metadata": {
    "scrolled": true
   },
   "outputs": [
    {
     "name": "stdout",
     "output_type": "stream",
     "text": [
      "CPU times: user 20 ms, sys: 7.31 ms, total: 27.3 ms\n",
      "Wall time: 27.4 ms\n"
     ]
    }
   ],
   "source": [
    "%%time\n",
    "\n",
    "data = sp.Dataset.load_from_df(df[['userID', 'itemID', 'rating']], reader)"
   ]
  },
  {
   "cell_type": "markdown",
   "id": "38cdeda6",
   "metadata": {},
   "source": [
    "### Divide the data into a training and test set"
   ]
  },
  {
   "cell_type": "code",
   "execution_count": 59,
   "id": "e50f6c6f",
   "metadata": {},
   "outputs": [],
   "source": [
    "trainset, testset = sp.model_selection.train_test_split(data, test_size=.25)"
   ]
  },
  {
   "cell_type": "markdown",
   "id": "c432388f",
   "metadata": {},
   "source": [
    "## K-fold cross validation"
   ]
  },
  {
   "cell_type": "markdown",
   "id": "476c8963",
   "metadata": {},
   "source": [
    "### Parameter grid"
   ]
  },
  {
   "cell_type": "code",
   "execution_count": 60,
   "id": "294e6634",
   "metadata": {},
   "outputs": [],
   "source": [
    "param_grid = {\n",
    "    \n",
    "    'lr_all'   : [0.001, 0.0025, 0.005, 0.01, 0.1, 0.5],\n",
    "    'reg_all'  : [0.4, 0.6]\n",
    "    \n",
    "}"
   ]
  },
  {
   "cell_type": "markdown",
   "id": "c0d321e3",
   "metadata": {},
   "source": [
    "### Run the Grid search"
   ]
  },
  {
   "cell_type": "code",
   "execution_count": 61,
   "id": "321e733f",
   "metadata": {},
   "outputs": [
    {
     "name": "stdout",
     "output_type": "stream",
     "text": [
      "CPU times: user 20.6 s, sys: 296 ms, total: 20.9 s\n",
      "Wall time: 21.3 s\n"
     ]
    }
   ],
   "source": [
    "%%time\n",
    "\n",
    "gs = sp.model_selection.GridSearchCV(sp.SVD, param_grid, measures=['rmse'], cv=3)\n",
    "gs.fit(data)"
   ]
  },
  {
   "cell_type": "markdown",
   "id": "debe7783",
   "metadata": {},
   "source": [
    "### Get the results of the GridSearch"
   ]
  },
  {
   "cell_type": "code",
   "execution_count": 62,
   "id": "8d78fade",
   "metadata": {},
   "outputs": [],
   "source": [
    "results_df = pd.DataFrame.from_dict(gs.cv_results)\n",
    "results_df.to_csv('data/cv_results.csv', index=False)"
   ]
  },
  {
   "cell_type": "markdown",
   "id": "3b1d5e69",
   "metadata": {},
   "source": [
    "### Get the best RMSE and set of parameters from the GridSearch"
   ]
  },
  {
   "cell_type": "code",
   "execution_count": 63,
   "id": "3a613b6f",
   "metadata": {},
   "outputs": [
    {
     "name": "stdout",
     "output_type": "stream",
     "text": [
      "1.2325818707138645\n",
      "{'lr_all': 0.01, 'reg_all': 0.4}\n"
     ]
    }
   ],
   "source": [
    "print(gs.best_score['rmse'])\n",
    "print(gs.best_params['rmse'])"
   ]
  },
  {
   "cell_type": "markdown",
   "id": "27a2dbfe",
   "metadata": {},
   "source": [
    "### Build the model from the parameters of the GridSearch"
   ]
  },
  {
   "cell_type": "code",
   "execution_count": 64,
   "id": "d17b7c1b",
   "metadata": {},
   "outputs": [],
   "source": [
    "algo = gs.best_estimator['rmse']"
   ]
  },
  {
   "cell_type": "markdown",
   "id": "f053decc",
   "metadata": {},
   "source": [
    "### Train the model on the training set and evaluate on the test set"
   ]
  },
  {
   "cell_type": "code",
   "execution_count": 66,
   "id": "99c6596d",
   "metadata": {},
   "outputs": [
    {
     "name": "stdout",
     "output_type": "stream",
     "text": [
      "RMSE: 1.2217\n",
      "RMSE of SVD is: 1.2216734596328098\n"
     ]
    }
   ],
   "source": [
    "algo.fit(trainset)\n",
    "predictions = algo.test(testset)\n",
    "print(\"RMSE of SVD is: {}\".format(sp.accuracy.rmse(predictions)))"
   ]
  }
 ],
 "metadata": {
  "kernelspec": {
   "display_name": "Python 3",
   "language": "python",
   "name": "python3"
  },
  "language_info": {
   "codemirror_mode": {
    "name": "ipython",
    "version": 3
   },
   "file_extension": ".py",
   "mimetype": "text/x-python",
   "name": "python",
   "nbconvert_exporter": "python",
   "pygments_lexer": "ipython3",
   "version": "3.6.13"
  }
 },
 "nbformat": 4,
 "nbformat_minor": 5
}
